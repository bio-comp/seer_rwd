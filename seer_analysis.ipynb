{
 "cells": [
  {
   "cell_type": "code",
   "execution_count": null,
   "id": "cdda7658-7df4-44a5-8ec5-59ec0599ab2e",
   "metadata": {},
   "outputs": [],
   "source": [
    "import requests\n",
    "from api_keys import default_key"
   ]
  },
  {
   "cell_type": "code",
   "execution_count": null,
   "id": "6d249efa-e244-4330-a98f-d10caa395d02",
   "metadata": {},
   "outputs": [],
   "source": [
    "base_url = \"https://api.seer.cancer.gov/rest/disease\""
   ]
  },
  {
   "cell_type": "code",
   "execution_count": null,
   "id": "b07aec8c-b5eb-4830-884e-7e2e802015da",
   "metadata": {},
   "outputs": [],
   "source": [
    "payload = {}\n",
    "header = {'X-SEERAPI-Key': default_key}"
   ]
  },
  {
   "cell_type": "code",
   "execution_count": null,
   "id": "d9472fa8-a233-44c2-a9c9-e7bc9c98231a",
   "metadata": {},
   "outputs": [],
   "source": [
    "r = requests.get(base_url, headers=header)"
   ]
  },
  {
   "cell_type": "code",
   "execution_count": null,
   "id": "40ba5869-eea1-4863-baf0-1c5a97dc3035",
   "metadata": {},
   "outputs": [],
   "source": [
    "print(default_key)"
   ]
  },
  {
   "cell_type": "code",
   "execution_count": null,
   "id": "005d69bd-99fb-4ea8-8421-8e4423d39121",
   "metadata": {},
   "outputs": [],
   "source": [
    "print(r)"
   ]
  },
  {
   "cell_type": "code",
   "execution_count": null,
   "id": "8bf5e20d-43d7-401d-a9d3-05b7461802b6",
   "metadata": {},
   "outputs": [],
   "source": [
    "r.json()"
   ]
  },
  {
   "cell_type": "code",
   "execution_count": null,
   "id": "124a091c-abf4-457a-9bd3-1b1dda61985d",
   "metadata": {},
   "outputs": [],
   "source": []
  }
 ],
 "metadata": {
  "kernelspec": {
   "display_name": "Python 3 (ipykernel)",
   "language": "python",
   "name": "python3"
  },
  "language_info": {
   "codemirror_mode": {
    "name": "ipython",
    "version": 3
   },
   "file_extension": ".py",
   "mimetype": "text/x-python",
   "name": "python",
   "nbconvert_exporter": "python",
   "pygments_lexer": "ipython3",
   "version": "3.11.7"
  }
 },
 "nbformat": 4,
 "nbformat_minor": 5
}
